{
 "cells": [
  {
   "cell_type": "code",
   "execution_count": null,
   "id": "initial_id",
   "metadata": {
    "ExecuteTime": {
     "end_time": "2025-04-08T19:43:59.336442Z",
     "start_time": "2025-04-08T19:43:55.048191Z"
    }
   },
   "outputs": [],
   "source": [
    "import cdshealpix.cdshealpix\n",
    "import hats\n",
    "import lsdb\n",
    "from astropy.coordinates import SkyCoord\n",
    "from astropy.io import fits\n",
    "import matplotlib.pyplot as plt\n",
    "import os\n",
    "import dask.dataframe as dd\n",
    "import pandas as pd\n",
    "from astropy.wcs import WCS\n",
    "import numpy as np\n",
    "\n",
    "from astropy.wcs.utils import pixel_to_skycoord, skycoord_to_pixel\n",
    "from cdshealpix import lonlat_to_healpix\n",
    "from hats.inspection.visualize_catalog import plot_healpix_map\n",
    "from hats.pixel_math import HealpixPixel\n",
    "from hats.pixel_tree.moc_filter import filter_by_moc\n",
    "from lsdb.catalog import MapCatalog\n",
    "from lsdb.core.search.moc_search import MOCSearch\n",
    "from matplotlib.colors import LogNorm"
   ]
  },
  {
   "cell_type": "code",
   "execution_count": null,
   "id": "45acba98e5a2688f",
   "metadata": {
    "ExecuteTime": {
     "end_time": "2025-04-08T19:44:03.009884Z",
     "start_time": "2025-04-08T19:44:00.117783Z"
    }
   },
   "outputs": [],
   "source": [
    "from dask.distributed import Client\n",
    "\n",
    "client = Client(n_workers=16)\n",
    "client"
   ]
  },
  {
   "cell_type": "code",
   "execution_count": null,
   "id": "ac1e269d7cdc8b86",
   "metadata": {
    "ExecuteTime": {
     "end_time": "2025-04-08T19:44:42.735525Z",
     "start_time": "2025-04-08T19:44:42.731213Z"
    }
   },
   "outputs": [],
   "source": [
    "import re\n",
    "from hats.catalog import TableProperties\n",
    "\n",
    "def construct_paths_map_catalog(dir):\n",
    "    paths = [os.path.join(dir, p) for p in os.listdir(dir)]\n",
    "    fits_files_hp_pixels = []\n",
    "    order = 11\n",
    "    pattern = r\".*\\/deepCoadd_hpx_._([0-9]*)\"\n",
    "    for f in paths:\n",
    "        match = re.search(pattern, f)\n",
    "        fits_files_hp_pixels.append(HealpixPixel(order, int((match.group(1)))))\n",
    "    paths_ddf = dd.from_map(lambda f: pd.DataFrame.from_dict({\"filepath\": [f]}), paths, meta=pd.DataFrame({\"filepath\": pd.Series([], dtype=\"string\")}))\n",
    "    ddf_pixel_map = {p: i for i, p in enumerate(fits_files_hp_pixels)}\n",
    "    map_cat_props = TableProperties(catalog_name=\"fits_paths_map_cat\", catalog_type=\"map\", total_rows=len(paths))\n",
    "    map_catalog_hc_structure = hats.catalog.MapCatalog(map_cat_props, fits_files_hp_pixels)\n",
    "    fits_paths_cat = MapCatalog(paths_ddf, ddf_pixel_map, map_catalog_hc_structure)\n",
    "    return fits_paths_cat"
   ]
  },
  {
   "cell_type": "code",
   "execution_count": null,
   "id": "883b69805c82dc00",
   "metadata": {
    "ExecuteTime": {
     "end_time": "2025-04-08T19:44:45.139555Z",
     "start_time": "2025-04-08T19:44:45.088229Z"
    }
   },
   "outputs": [],
   "source": [
    "fzboost_cat = lsdb.read_hats(\"/sdf/data/rubin/shared/lsdb_commissioning/sean_test/fzboost_curated_pdf\")\n",
    "fzboost_cat"
   ]
  },
  {
   "cell_type": "code",
   "execution_count": null,
   "id": "2d45410c31f28c0",
   "metadata": {
    "ExecuteTime": {
     "end_time": "2025-04-08T19:44:45.655594Z",
     "start_time": "2025-04-08T19:44:45.488780Z"
    }
   },
   "outputs": [],
   "source": [
    "w11 = lsdb.read_hats('/sdf/data/rubin/shared/lsdb_commissioning/hats/w_2025_11/object_lc', margin_cache='/sdf/data/rubin/shared/lsdb_commissioning/hats/w_2025_11/object_lc_5arcs')\n",
    "w11"
   ]
  },
  {
   "cell_type": "code",
   "execution_count": null,
   "id": "64164e67e5804816",
   "metadata": {
    "ExecuteTime": {
     "end_time": "2025-04-08T19:44:46.456705Z",
     "start_time": "2025-04-08T19:44:46.226014Z"
    }
   },
   "outputs": [],
   "source": [
    "rubin = fzboost_cat.crossmatch(w11, suffixes=(\"\", \"_w11\"))\n",
    "rubin"
   ]
  },
  {
   "cell_type": "code",
   "execution_count": null,
   "id": "82ad6e67956358e4",
   "metadata": {
    "ExecuteTime": {
     "end_time": "2025-04-08T19:44:47.178474Z",
     "start_time": "2025-04-08T19:44:46.948301Z"
    }
   },
   "outputs": [],
   "source": [
    "fits_dir = \"/sdf/home/s/smcgui/rubin-user/i_hips_in\"\n",
    "fits_paths_cat = construct_paths_map_catalog(fits_dir)\n",
    "fits_paths_cat"
   ]
  },
  {
   "cell_type": "code",
   "execution_count": null,
   "id": "5778865c024e9d8b",
   "metadata": {
    "ExecuteTime": {
     "end_time": "2025-04-08T19:44:49.174299Z",
     "start_time": "2025-04-08T19:44:49.057035Z"
    }
   },
   "outputs": [],
   "source": [
    "test_fits_path_cat = fits_paths_cat.partitions[0]\n",
    "test_fits_path_cat"
   ]
  },
  {
   "cell_type": "code",
   "execution_count": null,
   "id": "e6e9a2ba65557406",
   "metadata": {
    "ExecuteTime": {
     "end_time": "2025-04-08T19:44:52.506228Z",
     "start_time": "2025-04-08T19:44:52.497528Z"
    }
   },
   "outputs": [],
   "source": [
    "def get_ellipse_outline(shape_xx, shape_yy, shape_xy, wcs, center=(0, 0), npoints=300):\n",
    "    # Covariance matrix\n",
    "    covariance_matrix = np.array([[shape_xx, shape_xy], [shape_xy, shape_yy]])\n",
    "    # Eigenvalues and eigenvectors\n",
    "    eigenvalues, eigenvectors = np.linalg.eigh(covariance_matrix)\n",
    "    # Sorting eigenvalues and corresponding eigenvectors\n",
    "    order = eigenvalues.argsort()[::-1]\n",
    "    eigenvalues = eigenvalues[order]\n",
    "    eigenvectors = eigenvectors[:, order]\n",
    "    # Semi-major and semi-minor axes\n",
    "    a = np.sqrt(eigenvalues[0]) # Semi-major axis\n",
    "    b = np.sqrt(eigenvalues[1]) # Semi-minor axis\n",
    "    # Orientation angle (in radians)\n",
    "    theta = np.arctan2(eigenvectors[1, 0], eigenvectors[0, 0])\n",
    "    # Generate ellipse points\n",
    "    t = np.linspace(0, 2 * np.pi, npoints)\n",
    "    ellipse_x = a * np.cos(t)\n",
    "    ellipse_y = b * np.sin(t)\n",
    "    # Rotation matrix\n",
    "    rotation_matrix = np.array([[np.cos(theta), -np.sin(theta)], [np.sin(theta), np.cos(theta)]])\n",
    "    ellipse_points = np.dot(rotation_matrix, np.vstack((ellipse_x, ellipse_y)))\n",
    "    # Plot the ellipse\n",
    "    ra_points = ellipse_points[0] * 0.6 + center[0]\n",
    "    dec_points = ellipse_points[1] * 0.6 + center[1]\n",
    "    x, y = skycoord_to_pixel(SkyCoord(ra_points, dec_points, unit=\"arcsec\", frame=\"icrs\"), wcs)\n",
    "    return x, y\n",
    "\n",
    "def filter_image(imdata, objects, wcs, z_val, shape_xx_col=\"shape_xx_w11\", shape_yy_col=\"shape_yy_w11\", shape_xy_col=\"shape_xy_w11\", ra_col=\"i_ra\", dec_col=\"i_dec\", pdf_col=\"zpdf\", pdf_factor=1.5, max_z_val=3):\n",
    "    pixels_to_keep = []\n",
    "    pixel_opacities = []\n",
    "    for i in range(len(objects)):\n",
    "        if pd.isna(objects[shape_xx_col].iloc[i]) or pd.isna(objects[shape_yy_col].iloc[i]) or pd.isna(objects[shape_xy_col].iloc[i]):\n",
    "            break\n",
    "        pdf_index = int(z_val // (max_z_val / len(objects[pdf_col].iloc[i])))\n",
    "        opacity = objects[pdf_col].iloc[i][pdf_index] * pdf_factor / np.max(objects[pdf_col].iloc[i])\n",
    "        x, y = get_ellipse_outline(objects[shape_xx_col].iloc[i], objects[shape_yy_col].iloc[i], objects[shape_xy_col].iloc[i], wcs, center=(objects[ra_col].to_numpy()[i] * 3600, objects[dec_col].to_numpy()[i] * 3600))\n",
    "        all_pixels = np.vstack([x.astype(int), y.astype(int)]).T\n",
    "        pixels = np.unique(all_pixels, axis=0)\n",
    "        for i in range(len(pixels)-1):\n",
    "            p1 = pixels[i]\n",
    "            p2 = pixels[i+1]\n",
    "            pixels_to_keep.append(p1)\n",
    "            pixel_opacities.append(opacity)\n",
    "            if p1[0] == p2[0]:\n",
    "                if p1[1] + 1 < p2[1]:\n",
    "                    for yi in range(p1[1] + 1, p2[1]):\n",
    "                        pixels_to_keep.append(np.array([p1[0], yi]))\n",
    "                        pixel_opacities.append(opacity)\n",
    "    pixels_to_keep = np.array(pixels_to_keep)\n",
    "    pixel_opacities = np.array(pixel_opacities)\n",
    "    filtered_im = np.zeros_like(imdata)\n",
    "    if len(pixels_to_keep) > 0:\n",
    "        x_mask = pixels_to_keep.T[1].clip(max=filtered_im.shape[0]-1)\n",
    "        y_mask = pixels_to_keep.T[0].clip(max=filtered_im.shape[1]-1)\n",
    "        mask_mask = np.logical_and(x_mask > 0, y_mask > 0)\n",
    "        x_mask = x_mask[mask_mask]\n",
    "        y_mask = y_mask[mask_mask]\n",
    "        filtered_im[x_mask, y_mask] = imdata[x_mask, y_mask] * pixel_opacities[mask_mask]\n",
    "    return filtered_im"
   ]
  },
  {
   "cell_type": "code",
   "execution_count": null,
   "id": "9837a9b24de7fafa",
   "metadata": {
    "ExecuteTime": {
     "end_time": "2025-04-08T19:45:01.147186Z",
     "start_time": "2025-04-08T19:44:53.233340Z"
    }
   },
   "outputs": [],
   "source": [
    "res = rubin.search(MOCSearch(test_fits_path_cat.hc_structure.pixel_tree.to_moc())).compute()"
   ]
  },
  {
   "cell_type": "code",
   "execution_count": null,
   "id": "5fa6991925edf9a9",
   "metadata": {
    "ExecuteTime": {
     "end_time": "2025-04-08T19:45:02.331031Z",
     "start_time": "2025-04-08T19:45:02.327961Z"
    }
   },
   "outputs": [],
   "source": [
    "def plot_ellipse(shape_xx, shape_yy, shape_xy, wcs, center=(0, 0), color=None):\n",
    "    x, y = get_ellipse_outline(shape_xx, shape_yy, shape_xy, wcs, center=center)\n",
    "    if x is None:\n",
    "        return\n",
    "    plt.plot(x, y, label=\"Ellipse\", color=color)\n",
    "    plt.title(\"Ellipse from Shape Moments\")\n",
    "    plt.xlabel(\"X\")\n",
    "    plt.ylabel(\"Y\")"
   ]
  },
  {
   "cell_type": "code",
   "execution_count": null,
   "id": "bca36722de989244",
   "metadata": {
    "ExecuteTime": {
     "end_time": "2025-04-08T19:45:12.355858Z",
     "start_time": "2025-04-08T19:45:10.299999Z"
    }
   },
   "outputs": [],
   "source": [
    "import numpy as np\n",
    "from astropy.wcs import WCS\n",
    "\n",
    "with fits.open(test_fits_path_cat.compute().iloc[0][\"filepath\"]) as hdul:\n",
    "    data = hdul[1].data\n",
    "    header = hdul[1].header\n",
    "wcs = WCS(header)\n",
    "\n",
    "z_val = 0.6\n",
    "pdf_index = int(z_val // (3 / 301))\n",
    "\n",
    "plt.figure(figsize=(12, 8))\n",
    "plt.imshow(data, cmap='gray', vmin=5, vmax=30)\n",
    "plt.colorbar()\n",
    "cmap = plt.get_cmap('viridis')\n",
    "for ii in range(len(res)):\n",
    "    x, y = skycoord_to_pixel(SkyCoord(res[\"coord_ra_w11\"].to_numpy()[ii], res[\"coord_dec_w11\"].to_numpy()[ii], unit=\"deg\", frame=\"icrs\"), wcs)\n",
    "    plot_ellipse(res.iloc[ii][\"shape_xx_w11\"], res.iloc[ii][\"shape_yy_w11\"], res.iloc[ii][\"shape_xy_w11\"], wcs, center=(res[\"coord_ra_w11\"].to_numpy()[ii] * 3600, res[\"coord_dec_w11\"].to_numpy()[ii] * 3600), color=cmap(res[\"zpdf\"].iloc[ii][pdf_index] / np.max(res[\"zpdf\"].iloc[ii])))"
   ]
  },
  {
   "cell_type": "code",
   "execution_count": null,
   "id": "aaa2cf1255ca4369",
   "metadata": {
    "ExecuteTime": {
     "end_time": "2025-04-08T19:45:15.073797Z",
     "start_time": "2025-04-08T19:45:14.572035Z"
    }
   },
   "outputs": [],
   "source": [
    "z_val = 0.3\n",
    "\n",
    "import numpy as np\n",
    "from astropy.wcs import WCS\n",
    "\n",
    "with fits.open(test_fits_path_cat.compute().iloc[0][\"filepath\"]) as hdul:\n",
    "    data = hdul[1].data\n",
    "    header = hdul[1].header\n",
    "wcs = WCS(header)\n",
    "\n",
    "z_val = 0.6\n",
    "\n",
    "imdata = filter_image(data, res, wcs, z_val)\n",
    "\n",
    "plt.figure(figsize=(12, 8))\n",
    "plt.imshow(imdata, cmap='gray', vmin=5, vmax=30)\n",
    "plt.colorbar()"
   ]
  },
  {
   "cell_type": "code",
   "execution_count": null,
   "id": "43cccec04c43c3f",
   "metadata": {
    "ExecuteTime": {
     "end_time": "2025-04-08T19:45:25.343776Z",
     "start_time": "2025-04-08T19:45:25.339600Z"
    }
   },
   "outputs": [],
   "source": [
    "def split_image(partition, fits_path_df, catalog_pixel, map_pixel, zvals, out_base_paths):\n",
    "    file_path = fits_path_df[\"filepath\"].iloc[0]\n",
    "    with fits.open(file_path) as hdul:\n",
    "        data = hdul[1].data\n",
    "        header = hdul[1].header\n",
    "        wcs = WCS(header)\n",
    "        for val, out_base_path in zip(zvals, out_base_paths):\n",
    "            out_data = filter_image(data, partition, wcs, val)\n",
    "            out_path = os.path.join(out_base_path, file_path.split(\"/\")[-1])\n",
    "            hdu = fits.PrimaryHDU(out_data, header=header)\n",
    "            out_hdul = fits.HDUList([hdu])\n",
    "            out_hdul.writeto(out_path)\n",
    "    return pd.DataFrame.from_dict({\"lenpart\": [len(partition)]})"
   ]
  },
  {
   "cell_type": "code",
   "execution_count": null,
   "id": "2de6772e2289e495",
   "metadata": {
    "ExecuteTime": {
     "end_time": "2025-04-08T19:45:26.416394Z",
     "start_time": "2025-04-08T19:45:26.413168Z"
    }
   },
   "outputs": [],
   "source": [
    "zvals = [0.1, 0.4, 0.7, 1.0, 1.3, 1.6, 1.9, 2.2]\n",
    "zvals"
   ]
  },
  {
   "cell_type": "code",
   "execution_count": null,
   "id": "e00a29d7fa5b4aa1",
   "metadata": {
    "ExecuteTime": {
     "end_time": "2025-04-08T19:45:27.842114Z",
     "start_time": "2025-04-08T19:45:27.838787Z"
    }
   },
   "outputs": [],
   "source": [
    "import shutil\n",
    "\n",
    "def run_splitting_for_fits_files(rubin_cat, fits_path, filtered_fits_path, z_vals, overwrite_out_path=False):\n",
    "    map_cat = construct_paths_map_catalog(fits_path)\n",
    "    out_paths = [f\"{filtered_fits_path}/bin{i}/\" for i in z_vals]\n",
    "    if overwrite_out_path and os.path.exists(filtered_fits_path):\n",
    "        shutil.rmtree(filtered_fits_path)\n",
    "    for path in out_paths:\n",
    "        os.makedirs(path, exist_ok=False)\n",
    "    out = rubin_cat.merge_map(map_cat, split_image, z_vals, out_paths, meta=pd.DataFrame({\"lenpart\": pd.Series([], dtype=\"int\")}))\n",
    "    out.compute()"
   ]
  },
  {
   "cell_type": "code",
   "execution_count": null,
   "id": "2bbc30db8568c81a",
   "metadata": {
    "ExecuteTime": {
     "end_time": "2025-04-08T19:45:29.539164Z",
     "start_time": "2025-04-08T19:45:29.536446Z"
    }
   },
   "outputs": [],
   "source": [
    "def run_multiple_paths(rubin_cat, fits_paths, filtered_fits_paths, z_vals, overwrite_out_path=False):\n",
    "    for path, out_path in zip(fits_paths, filtered_fits_paths):\n",
    "        print(f\"Running {path} to {out_path}\")\n",
    "        run_splitting_for_fits_files(rubin_cat, path, out_path, z_vals, overwrite_out_path=overwrite_out_path)"
   ]
  },
  {
   "cell_type": "code",
   "execution_count": null,
   "id": "42f7af018b70d21a",
   "metadata": {
    "ExecuteTime": {
     "end_time": "2025-04-08T20:18:31.253929Z",
     "start_time": "2025-04-08T20:18:31.245447Z"
    }
   },
   "outputs": [],
   "source": [
    "import os\n",
    "import shutil\n",
    "from PIL import Image\n",
    "\n",
    "def find_png_files(root_dir):\n",
    "    \"\"\"Find all PNG files in Norder directories and group them by pixel tile name.\"\"\"\n",
    "    png_files = {}\n",
    "\n",
    "    for dirpath, _, filenames in os.walk(root_dir):\n",
    "        if \"Norder\" in dirpath:\n",
    "            for file in filenames:\n",
    "                if file.endswith(\".png\"):\n",
    "                    tile_name = os.path.basename(file)\n",
    "                    png_files[tile_name] = os.path.join(dirpath, file)\n",
    "\n",
    "    return png_files\n",
    "\n",
    "def merge_rgb_images(red_dir, green_dir, blue_dir, output_dir):\n",
    "    \"\"\"Merge red, green, and blue PNGs into an RGB image and save to output_dir.\"\"\"\n",
    "    os.makedirs(output_dir, exist_ok=True)\n",
    "\n",
    "    red_files = find_png_files(red_dir)\n",
    "    green_files = find_png_files(green_dir)\n",
    "    blue_files = find_png_files(blue_dir)\n",
    "\n",
    "    all_tiles = set(red_files.keys()) | set(green_files.keys()) | set(blue_files.keys())\n",
    "\n",
    "    for tile in all_tiles:\n",
    "        red_path = red_files.get(tile, {})\n",
    "        green_path = green_files.get(tile, {})\n",
    "        blue_path = blue_files.get(tile, {})\n",
    "\n",
    "        red_img = Image.open(red_path).convert(\"L\") if red_path else None\n",
    "        green_img = Image.open(green_path).convert(\"L\") if green_path else None\n",
    "        blue_img = Image.open(blue_path).convert(\"L\") if blue_path else None\n",
    "\n",
    "        # Determine image size (use first available image size)\n",
    "        img_size = red_img.size if red_img else (green_img.size if green_img else blue_img.size)\n",
    "\n",
    "        # Create black images for missing channels\n",
    "        if not red_img:\n",
    "            continue\n",
    "        if not green_img:\n",
    "            continue\n",
    "        if not blue_img:\n",
    "            continue\n",
    "\n",
    "        # Merge into RGB\n",
    "        rgb_image = Image.merge(\"RGB\", (red_img, green_img, blue_img))\n",
    "\n",
    "        # Recreate directory structure in output folder\n",
    "        original_path = os.path.dirname(red_path)\n",
    "\n",
    "        relative_path = os.path.relpath(original_path, red_dir)\n",
    "        save_path = os.path.join(output_dir, relative_path)\n",
    "        os.makedirs(save_path, exist_ok=True)\n",
    "\n",
    "        rgb_image.save(os.path.join(save_path, tile))"
   ]
  },
  {
   "cell_type": "code",
   "execution_count": null,
   "id": "ad75f4b75b8b2996",
   "metadata": {
    "ExecuteTime": {
     "end_time": "2025-04-08T20:28:04.160586Z",
     "start_time": "2025-04-08T20:28:04.157123Z"
    }
   },
   "outputs": [],
   "source": [
    "in_paths = [\"/sdf/home/s/smcgui/rubin-user/i_hips_in\", \"/sdf/home/s/smcgui/rubin-user/r_hips_in\", \"/sdf/home/s/smcgui/rubin-user/g_hips_in\"]\n",
    "out_paths = [\"/sdf/home/s/smcgui/rubin-user/i_hips_pdf_fits\", \"/sdf/home/s/smcgui/rubin-user/r_hips_pdf_fits\", \"/sdf/home/s/smcgui/rubin-user/g_hips_pdf_fits\"]\n",
    "hips_paths = [\"/sdf/home/s/smcgui/rubin-user/i_hips_pdf\", \"/sdf/home/s/smcgui/rubin-user/r_hips_pdf\", \"/sdf/home/s/smcgui/rubin-user/g_hips_pdf\"]\n",
    "r_hips_dir = hips_paths[0]\n",
    "g_hips_dir = hips_paths[1]\n",
    "b_hips_dir = hips_paths[2]\n",
    "color_hips_out = \"/sdf/home/s/smcgui/rubin-user/gri_hips_pdf\""
   ]
  },
  {
   "cell_type": "code",
   "execution_count": null,
   "id": "4045b41652f94956",
   "metadata": {
    "ExecuteTime": {
     "end_time": "2025-04-08T19:51:02.669190Z",
     "start_time": "2025-04-08T19:45:54.821778Z"
    }
   },
   "outputs": [],
   "source": [
    "run_multiple_paths(rubin, in_paths, out_paths, zvals, overwrite_out_path=True)"
   ]
  },
  {
   "cell_type": "code",
   "execution_count": null,
   "id": "e794d23a0f05dfda",
   "metadata": {
    "ExecuteTime": {
     "end_time": "2025-04-08T20:16:55.109896Z",
     "start_time": "2025-04-08T19:57:35.249448Z"
    }
   },
   "outputs": [],
   "source": [
    "for fits_path, hips_path in zip(out_paths, hips_paths):\n",
    "    bins = os.listdir(fits_path)\n",
    "    for bin in bins:\n",
    "        !java -jar /sdf/home/s/smcgui/Hipsgen.jar in={fits_path}/{bin} out={hips_path}/{bin} id=LINCCF/P/seantesthips pixelCut=\"0 50 sqrt\""
   ]
  },
  {
   "cell_type": "code",
   "execution_count": null,
   "id": "2655e4b117ca6765",
   "metadata": {
    "ExecuteTime": {
     "end_time": "2025-04-08T20:44:08.763378Z",
     "start_time": "2025-04-08T20:44:08.724830Z"
    }
   },
   "outputs": [],
   "source": [
    "bins = os.listdir(r_hips_dir)\n",
    "for bin in bins:\n",
    "    red_hips_dir = f\"{r_hips_dir}/{bin}\"\n",
    "    green_hips_dir = f\"{g_hips_dir}/{bin}\"\n",
    "    blue_hips_dir = f\"{b_hips_dir}/{bin}\"\n",
    "    output_hips_dir = f\"{color_hips_out}/{bin}\"\n",
    "    print(f\"making color hips at {output_hips_dir}\")\n",
    "    merge_rgb_images(red_hips_dir, green_hips_dir, blue_hips_dir, output_hips_dir)\n",
    "    shutil.copy(f\"{red_hips_dir}/properties\", f\"{output_hips_dir}/properties\")"
   ]
  },
  {
   "cell_type": "code",
   "execution_count": null,
   "id": "4ee99443d7c03d92",
   "metadata": {
    "ExecuteTime": {
     "end_time": "2025-04-08T21:03:29.859537Z",
     "start_time": "2025-04-08T21:03:29.857054Z"
    }
   },
   "outputs": [],
   "source": [
    "linking_dir = \"/sdf/home/s/smcgui/hips-viewer/webapp/public\""
   ]
  },
  {
   "cell_type": "code",
   "execution_count": null,
   "id": "9cbd6d7365883d64",
   "metadata": {
    "ExecuteTime": {
     "end_time": "2025-04-08T21:05:50.291547Z",
     "start_time": "2025-04-08T21:05:50.288881Z"
    }
   },
   "outputs": [],
   "source": [
    "symlink_name = \"gri_pdf_hips\"\n",
    "os.symlink(color_hips_out, f\"{linking_dir}/{symlink_name}\")"
   ]
  },
  {
   "cell_type": "code",
   "execution_count": null,
   "id": "3b19aba09bd74142",
   "metadata": {
    "ExecuteTime": {
     "end_time": "2025-04-08T21:06:35.603783Z",
     "start_time": "2025-04-08T21:06:35.600052Z"
    }
   },
   "outputs": [],
   "source": [
    "bin_paths = [f\"{symlink_name}/{bin}\" for bin in sorted(bins)]\n",
    "bin_paths"
   ]
  },
  {
   "cell_type": "code",
   "execution_count": null,
   "id": "cb64cf03f7607463",
   "metadata": {
    "ExecuteTime": {
     "end_time": "2025-04-08T21:08:45.300556Z",
     "start_time": "2025-04-08T21:08:45.296814Z"
    }
   },
   "outputs": [],
   "source": [
    "urls = [f\"http://localhost:3000/{b}\" for b in bin_paths]\n",
    "urls"
   ]
  },
  {
   "cell_type": "code",
   "execution_count": null,
   "id": "4084e594498405d3",
   "metadata": {
    "ExecuteTime": {
     "end_time": "2025-04-08T21:10:14.621476Z",
     "start_time": "2025-04-08T21:10:14.618037Z"
    }
   },
   "outputs": [],
   "source": [
    "bin_numbers = [bin[3:] for bin in sorted(bins)]\n",
    "bin_numbers"
   ]
  },
  {
   "cell_type": "code",
   "execution_count": null,
   "id": "89046639afeadb36",
   "metadata": {
    "ExecuteTime": {
     "end_time": "2025-04-08T21:11:23.333331Z",
     "start_time": "2025-04-08T21:11:23.329576Z"
    }
   },
   "outputs": [],
   "source": [
    "bin_ranges = [[float(bn) - 0.1, float(bn) + 0.1] for bn in bin_numbers]\n",
    "bin_ranges"
   ]
  },
  {
   "cell_type": "code",
   "execution_count": null,
   "id": "4c25f13928f193dc",
   "metadata": {
    "ExecuteTime": {
     "end_time": "2025-04-08T20:38:01.278295Z",
     "start_time": "2025-04-08T20:38:01.161591Z"
    }
   },
   "outputs": [],
   "source": [
    "a_bin = os.listdir(out_paths[0])[1]\n",
    "a_file = os.listdir(os.path.join(out_paths[0], a_bin))[102]\n",
    "a_file_path = os.path.join(out_paths[0], a_bin, a_file)\n",
    "a_file_path"
   ]
  },
  {
   "cell_type": "code",
   "execution_count": null,
   "id": "aeeef2e490e1f96e",
   "metadata": {
    "ExecuteTime": {
     "end_time": "2025-04-08T20:38:01.909215Z",
     "start_time": "2025-04-08T20:38:01.726609Z"
    }
   },
   "outputs": [],
   "source": [
    "with fits.open(a_file_path) as hdul:\n",
    "    test_data = hdul[0].data\n",
    "    test_header = hdul[0].header\n",
    "\n",
    "test_wcs = WCS(test_header)\n",
    "plt.figure(figsize=(12, 8))\n",
    "plt.imshow(test_data, cmap='gray', vmin=5, vmax=30)\n",
    "plt.colorbar()\n",
    "plt.show()"
   ]
  },
  {
   "cell_type": "code",
   "execution_count": null,
   "id": "e7ebeec2d8d051c4",
   "metadata": {
    "ExecuteTime": {
     "end_time": "2025-04-08T20:40:56.400714Z",
     "start_time": "2025-04-08T20:40:56.393641Z"
    }
   },
   "outputs": [],
   "source": [
    "a_rgb_bin = os.listdir(color_hips_out)[1]\n",
    "a_rgb_norder = os.listdir(os.path.join(color_hips_out, a_rgb_bin))[0]\n",
    "a_rgb_dir = os.listdir(os.path.join(color_hips_out, a_rgb_bin, a_rgb_norder))[0]\n",
    "a_rgb_file = os.listdir(os.path.join(color_hips_out, a_rgb_bin, a_rgb_norder, a_rgb_dir))[0]\n",
    "a_rgb_file_path = os.path.join(color_hips_out, a_rgb_bin, a_rgb_norder, a_rgb_dir, a_rgb_file)\n",
    "a_rgb_file_path"
   ]
  },
  {
   "cell_type": "code",
   "execution_count": null,
   "id": "c29e251fa45723ee",
   "metadata": {
    "ExecuteTime": {
     "end_time": "2025-04-08T20:41:21.701345Z",
     "start_time": "2025-04-08T20:41:21.687545Z"
    }
   },
   "outputs": [],
   "source": [
    "rgb_image = Image.open(a_rgb_file_path)\n",
    "rgb_image"
   ]
  },
  {
   "cell_type": "code",
   "execution_count": null,
   "id": "eab6024acb5b182a",
   "metadata": {
    "ExecuteTime": {
     "end_time": "2025-04-08T20:40:44.099374Z",
     "start_time": "2025-04-08T20:40:43.350856Z"
    }
   },
   "outputs": [],
   "source": [
    "client.close()"
   ]
  },
  {
   "cell_type": "code",
   "execution_count": null,
   "id": "1b9fd9fb9e42b4ce",
   "metadata": {
    "ExecuteTime": {
     "end_time": "2025-04-05T00:22:59.336587Z",
     "start_time": "2025-04-05T00:22:59.250376Z"
    }
   },
   "outputs": [],
   "source": [
    "client"
   ]
  },
  {
   "cell_type": "code",
   "execution_count": null,
   "id": "a57b4c7a9a6ed7a2",
   "metadata": {},
   "outputs": [],
   "source": []
  }
 ],
 "metadata": {
  "kernelspec": {
   "display_name": "Python 3",
   "language": "python",
   "name": "python3"
  },
  "language_info": {
   "codemirror_mode": {
    "name": "ipython",
    "version": 2
   },
   "file_extension": ".py",
   "mimetype": "text/x-python",
   "name": "python",
   "nbconvert_exporter": "python",
   "pygments_lexer": "ipython2",
   "version": "2.7.6"
  }
 },
 "nbformat": 4,
 "nbformat_minor": 5
}
